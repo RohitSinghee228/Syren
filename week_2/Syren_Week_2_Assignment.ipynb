{
  "nbformat": 4,
  "nbformat_minor": 0,
  "metadata": {
    "colab": {
      "provenance": []
    },
    "kernelspec": {
      "name": "python3",
      "display_name": "Python 3"
    },
    "language_info": {
      "name": "python"
    }
  },
  "cells": [
    {
      "cell_type": "code",
      "execution_count": null,
      "metadata": {
        "id": "iQGPIBQbN2P1"
      },
      "outputs": [],
      "source": []
    },
    {
      "cell_type": "code",
      "source": [
        "from pyspark.sql import SparkSession\n",
        "from pyspark.sql.functions import col, avg, max as spark_max"
      ],
      "metadata": {
        "id": "YRh2bM9RObe7"
      },
      "execution_count": 1,
      "outputs": []
    },
    {
      "cell_type": "code",
      "source": [
        "# Initialize Spark Session\n",
        "spark = SparkSession.builder.appName(\"EmployeesAssignment\").getOrCreate()"
      ],
      "metadata": {
        "id": "zuS-bsPuOcAs"
      },
      "execution_count": 2,
      "outputs": []
    },
    {
      "cell_type": "code",
      "source": [
        "# Load the CSV file into a Spark DataFrame\n",
        "df = spark.read.csv(\"employees(in).csv\", header=True, inferSchema=True)"
      ],
      "metadata": {
        "id": "iAQ2PKa7Oemi"
      },
      "execution_count": 3,
      "outputs": []
    },
    {
      "cell_type": "code",
      "source": [
        "# Show the DataFrame\n",
        "df.show(5)"
      ],
      "metadata": {
        "colab": {
          "base_uri": "https://localhost:8080/"
        },
        "id": "ToHsHEimOlHm",
        "outputId": "22a50145-c598-4dcc-e1be-6a1e7592eb45"
      },
      "execution_count": 4,
      "outputs": [
        {
          "output_type": "stream",
          "name": "stdout",
          "text": [
            "+-----------+-------+----------+------+------------+-------------+\n",
            "|employee_id|   name|department|salary|joining_year|bonus_percent|\n",
            "+-----------+-------+----------+------+------------+-------------+\n",
            "|        101|  Alice|        HR| 50000|        2018|            5|\n",
            "|        102|    Bob|   Finance| 60000|        2019|            7|\n",
            "|        103|Charlie|        IT| 75000|        2017|           10|\n",
            "|        104|  David|   Finance| 62000|        2020|            6|\n",
            "|        105|    Eva|        IT| 80000|        2021|           12|\n",
            "+-----------+-------+----------+------+------------+-------------+\n",
            "only showing top 5 rows\n",
            "\n"
          ]
        }
      ]
    },
    {
      "cell_type": "code",
      "source": [
        "# Select only the name and salary columns\n",
        "df.select(\"name\", \"salary\").show()"
      ],
      "metadata": {
        "colab": {
          "base_uri": "https://localhost:8080/"
        },
        "id": "4OSE-kVgOqxV",
        "outputId": "d8008102-f1ba-4913-e962-1d710881979f"
      },
      "execution_count": 5,
      "outputs": [
        {
          "output_type": "stream",
          "name": "stdout",
          "text": [
            "+-------+------+\n",
            "|   name|salary|\n",
            "+-------+------+\n",
            "|  Alice| 50000|\n",
            "|    Bob| 60000|\n",
            "|Charlie| 75000|\n",
            "|  David| 62000|\n",
            "|    Eva| 80000|\n",
            "|  Frank| 52000|\n",
            "|  Grace| 90000|\n",
            "+-------+------+\n",
            "\n"
          ]
        }
      ]
    },
    {
      "cell_type": "code",
      "source": [
        "#  Filter employees with salary greater than 60000\n",
        "df.filter(col(\"salary\") > 60000).show()"
      ],
      "metadata": {
        "colab": {
          "base_uri": "https://localhost:8080/"
        },
        "id": "JaKLIGCoOtGF",
        "outputId": "ad99c9c4-4603-4297-fbd4-44c727a9a1cc"
      },
      "execution_count": 6,
      "outputs": [
        {
          "output_type": "stream",
          "name": "stdout",
          "text": [
            "+-----------+-------+----------+------+------------+-------------+\n",
            "|employee_id|   name|department|salary|joining_year|bonus_percent|\n",
            "+-----------+-------+----------+------+------------+-------------+\n",
            "|        103|Charlie|        IT| 75000|        2017|           10|\n",
            "|        104|  David|   Finance| 62000|        2020|            6|\n",
            "|        105|    Eva|        IT| 80000|        2021|           12|\n",
            "|        107|  Grace|        IT| 90000|        2019|           15|\n",
            "+-----------+-------+----------+------+------------+-------------+\n",
            "\n"
          ]
        }
      ]
    },
    {
      "cell_type": "code",
      "source": [
        "#  Add a new column bonus_amount = salary * bonus_percent / 100\n",
        "df = df.withColumn(\"bonus_amount\", col(\"salary\") * col(\"bonus_percent\") / 100)\n",
        "df.show(5)"
      ],
      "metadata": {
        "colab": {
          "base_uri": "https://localhost:8080/"
        },
        "id": "ilhFOyJUOwe7",
        "outputId": "e62cb89b-eac0-4398-82f9-a080270d7864"
      },
      "execution_count": 7,
      "outputs": [
        {
          "output_type": "stream",
          "name": "stdout",
          "text": [
            "+-----------+-------+----------+------+------------+-------------+------------+\n",
            "|employee_id|   name|department|salary|joining_year|bonus_percent|bonus_amount|\n",
            "+-----------+-------+----------+------+------------+-------------+------------+\n",
            "|        101|  Alice|        HR| 50000|        2018|            5|      2500.0|\n",
            "|        102|    Bob|   Finance| 60000|        2019|            7|      4200.0|\n",
            "|        103|Charlie|        IT| 75000|        2017|           10|      7500.0|\n",
            "|        104|  David|   Finance| 62000|        2020|            6|      3720.0|\n",
            "|        105|    Eva|        IT| 80000|        2021|           12|      9600.0|\n",
            "+-----------+-------+----------+------+------------+-------------+------------+\n",
            "only showing top 5 rows\n",
            "\n"
          ]
        }
      ]
    },
    {
      "cell_type": "code",
      "source": [
        "#  Rename the column joining_year to year_joined\n",
        "df = df.withColumnRenamed(\"joining_year\", \"year_joined\")\n",
        "df.show(5)"
      ],
      "metadata": {
        "colab": {
          "base_uri": "https://localhost:8080/"
        },
        "id": "jvRhHYXxPLQD",
        "outputId": "702a8cde-5611-4750-e9c8-8f89dedf5c0e"
      },
      "execution_count": 8,
      "outputs": [
        {
          "output_type": "stream",
          "name": "stdout",
          "text": [
            "+-----------+-------+----------+------+-----------+-------------+------------+\n",
            "|employee_id|   name|department|salary|year_joined|bonus_percent|bonus_amount|\n",
            "+-----------+-------+----------+------+-----------+-------------+------------+\n",
            "|        101|  Alice|        HR| 50000|       2018|            5|      2500.0|\n",
            "|        102|    Bob|   Finance| 60000|       2019|            7|      4200.0|\n",
            "|        103|Charlie|        IT| 75000|       2017|           10|      7500.0|\n",
            "|        104|  David|   Finance| 62000|       2020|            6|      3720.0|\n",
            "|        105|    Eva|        IT| 80000|       2021|           12|      9600.0|\n",
            "+-----------+-------+----------+------+-----------+-------------+------------+\n",
            "only showing top 5 rows\n",
            "\n"
          ]
        }
      ]
    },
    {
      "cell_type": "code",
      "source": [
        "#  Drop the bonus_percent column\n",
        "df = df.drop(\"bonus_percent\")\n",
        "df.show(5)"
      ],
      "metadata": {
        "colab": {
          "base_uri": "https://localhost:8080/"
        },
        "id": "mtmbj2iBPPeV",
        "outputId": "66ace62f-e63e-4769-d92c-2c1548db96c4"
      },
      "execution_count": 9,
      "outputs": [
        {
          "output_type": "stream",
          "name": "stdout",
          "text": [
            "+-----------+-------+----------+------+-----------+------------+\n",
            "|employee_id|   name|department|salary|year_joined|bonus_amount|\n",
            "+-----------+-------+----------+------+-----------+------------+\n",
            "|        101|  Alice|        HR| 50000|       2018|      2500.0|\n",
            "|        102|    Bob|   Finance| 60000|       2019|      4200.0|\n",
            "|        103|Charlie|        IT| 75000|       2017|      7500.0|\n",
            "|        104|  David|   Finance| 62000|       2020|      3720.0|\n",
            "|        105|    Eva|        IT| 80000|       2021|      9600.0|\n",
            "+-----------+-------+----------+------+-----------+------------+\n",
            "only showing top 5 rows\n",
            "\n"
          ]
        }
      ]
    },
    {
      "cell_type": "code",
      "source": [],
      "metadata": {
        "id": "vjerTlJVQcAq"
      },
      "execution_count": null,
      "outputs": []
    },
    {
      "cell_type": "code",
      "source": [
        "#  Count the number of employees in each department\n",
        "df.groupBy(\"department\").agg(avg(\"salary\").alias(\"avg_salary\")).show()"
      ],
      "metadata": {
        "colab": {
          "base_uri": "https://localhost:8080/"
        },
        "id": "8HkKWCc7PROB",
        "outputId": "761b9931-a762-4e4c-e0b9-974ffc119a91"
      },
      "execution_count": 10,
      "outputs": [
        {
          "output_type": "stream",
          "name": "stdout",
          "text": [
            "+----------+-----------------+\n",
            "|department|       avg_salary|\n",
            "+----------+-----------------+\n",
            "|        HR|          51000.0|\n",
            "|   Finance|          61000.0|\n",
            "|        IT|81666.66666666667|\n",
            "+----------+-----------------+\n",
            "\n"
          ]
        }
      ]
    },
    {
      "cell_type": "code",
      "source": [
        "#  Find the maximum salary in the dataset\n",
        "df.groupBy(\"department\").count().show()"
      ],
      "metadata": {
        "colab": {
          "base_uri": "https://localhost:8080/"
        },
        "id": "BGGJ2dNGPTM0",
        "outputId": "09762079-1dda-48e1-8371-836fe82aa913"
      },
      "execution_count": 11,
      "outputs": [
        {
          "output_type": "stream",
          "name": "stdout",
          "text": [
            "+----------+-----+\n",
            "|department|count|\n",
            "+----------+-----+\n",
            "|        HR|    2|\n",
            "|   Finance|    2|\n",
            "|        IT|    3|\n",
            "+----------+-----+\n",
            "\n"
          ]
        }
      ]
    },
    {
      "cell_type": "code",
      "source": [
        "#  Sort employees by salary in descending order\n",
        "df.agg(spark_max(\"salary\").alias(\"max_salary\")).show()"
      ],
      "metadata": {
        "colab": {
          "base_uri": "https://localhost:8080/"
        },
        "id": "8BFoPLi7PU_g",
        "outputId": "5b4ea2b3-52d1-401c-8aff-fafec44bebe4"
      },
      "execution_count": 12,
      "outputs": [
        {
          "output_type": "stream",
          "name": "stdout",
          "text": [
            "+----------+\n",
            "|max_salary|\n",
            "+----------+\n",
            "|     90000|\n",
            "+----------+\n",
            "\n"
          ]
        }
      ]
    },
    {
      "cell_type": "code",
      "source": [
        "#  Sort employees by joining year in ascending order\n",
        "df.orderBy(col(\"salary\").desc()).show(5)"
      ],
      "metadata": {
        "colab": {
          "base_uri": "https://localhost:8080/"
        },
        "id": "BzQZGHoiPWmO",
        "outputId": "68b03442-d1c8-4632-8ece-496eb194c948"
      },
      "execution_count": 13,
      "outputs": [
        {
          "output_type": "stream",
          "name": "stdout",
          "text": [
            "+-----------+-------+----------+------+-----------+------------+\n",
            "|employee_id|   name|department|salary|year_joined|bonus_amount|\n",
            "+-----------+-------+----------+------+-----------+------------+\n",
            "|        107|  Grace|        IT| 90000|       2019|     13500.0|\n",
            "|        105|    Eva|        IT| 80000|       2021|      9600.0|\n",
            "|        103|Charlie|        IT| 75000|       2017|      7500.0|\n",
            "|        104|  David|   Finance| 62000|       2020|      3720.0|\n",
            "|        102|    Bob|   Finance| 60000|       2019|      4200.0|\n",
            "+-----------+-------+----------+------+-----------+------------+\n",
            "only showing top 5 rows\n",
            "\n"
          ]
        }
      ]
    },
    {
      "cell_type": "code",
      "source": [
        "#  Create another DataFrame with department details\n",
        "df.orderBy(col(\"year_joined\").asc()).show(5)"
      ],
      "metadata": {
        "colab": {
          "base_uri": "https://localhost:8080/"
        },
        "id": "UBOov9FoPYMM",
        "outputId": "d0f17ce6-c6a0-412e-c889-007733f07017"
      },
      "execution_count": 14,
      "outputs": [
        {
          "output_type": "stream",
          "name": "stdout",
          "text": [
            "+-----------+-------+----------+------+-----------+------------+\n",
            "|employee_id|   name|department|salary|year_joined|bonus_amount|\n",
            "+-----------+-------+----------+------+-----------+------------+\n",
            "|        103|Charlie|        IT| 75000|       2017|      7500.0|\n",
            "|        101|  Alice|        HR| 50000|       2018|      2500.0|\n",
            "|        106|  Frank|        HR| 52000|       2018|      2600.0|\n",
            "|        102|    Bob|   Finance| 60000|       2019|      4200.0|\n",
            "|        107|  Grace|        IT| 90000|       2019|     13500.0|\n",
            "+-----------+-------+----------+------+-----------+------------+\n",
            "only showing top 5 rows\n",
            "\n"
          ]
        }
      ]
    },
    {
      "cell_type": "code",
      "source": [
        "dept_data = [\n",
        "    (\"HR\", \"New York\"),\n",
        "    (\"IT\", \"San Francisco\"),\n",
        "    (\"Finance\", \"Chicago\"),\n",
        "    (\"Sales\", \"Boston\")\n",
        "]"
      ],
      "metadata": {
        "id": "9CUPv07UPZra"
      },
      "execution_count": 15,
      "outputs": []
    },
    {
      "cell_type": "code",
      "source": [
        "dept_columns = [\"dept_name\", \"location\"]"
      ],
      "metadata": {
        "id": "whf1wLaHPbra"
      },
      "execution_count": 16,
      "outputs": []
    },
    {
      "cell_type": "code",
      "source": [
        "dept_df = spark.createDataFrame(dept_data, dept_columns)"
      ],
      "metadata": {
        "id": "pd2wIftIPdIB"
      },
      "execution_count": 17,
      "outputs": []
    },
    {
      "cell_type": "code",
      "source": [
        "# Join with employees DataFrame on department\n",
        "joined_df = df.join(dept_df, df.department == dept_df.dept_name, \"inner\")\n"
      ],
      "metadata": {
        "colab": {
          "base_uri": "https://localhost:8080/"
        },
        "id": "QOLJfzYbPek-",
        "outputId": "9bb53e56-dd14-43ff-bc26-a1b3b7dd8d66"
      },
      "execution_count": 18,
      "outputs": [
        {
          "output_type": "stream",
          "name": "stdout",
          "text": [
            "+-----------+-------+----------+------+-----------+------------+---------+-------------+\n",
            "|employee_id|   name|department|salary|year_joined|bonus_amount|dept_name|     location|\n",
            "+-----------+-------+----------+------+-----------+------------+---------+-------------+\n",
            "|        106|  Frank|        HR| 52000|       2018|      2600.0|       HR|     New York|\n",
            "|        101|  Alice|        HR| 50000|       2018|      2500.0|       HR|     New York|\n",
            "|        107|  Grace|        IT| 90000|       2019|     13500.0|       IT|San Francisco|\n",
            "|        105|    Eva|        IT| 80000|       2021|      9600.0|       IT|San Francisco|\n",
            "|        103|Charlie|        IT| 75000|       2017|      7500.0|       IT|San Francisco|\n",
            "+-----------+-------+----------+------+-----------+------------+---------+-------------+\n",
            "only showing top 5 rows\n",
            "\n"
          ]
        }
      ]
    },
    {
      "cell_type": "code",
      "source": [
        "#Display the first 5 rows using show\n",
        "joined_df.show(5)"
      ],
      "metadata": {
        "colab": {
          "base_uri": "https://localhost:8080/"
        },
        "id": "h8rEjvMsPf73",
        "outputId": "216996e2-d7cd-4ffc-92e8-19ddd01e1b71"
      },
      "execution_count": 27,
      "outputs": [
        {
          "output_type": "stream",
          "name": "stdout",
          "text": [
            "+-----------+-------+----------+------+-----------+------------+---------+-------------+\n",
            "|employee_id|   name|department|salary|year_joined|bonus_amount|dept_name|     location|\n",
            "+-----------+-------+----------+------+-----------+------------+---------+-------------+\n",
            "|        106|  Frank|        HR| 52000|       2018|      2600.0|       HR|     New York|\n",
            "|        101|  Alice|        HR| 50000|       2018|      2500.0|       HR|     New York|\n",
            "|        107|  Grace|        IT| 90000|       2019|     13500.0|       IT|San Francisco|\n",
            "|        105|    Eva|        IT| 80000|       2021|      9600.0|       IT|San Francisco|\n",
            "|        103|Charlie|        IT| 75000|       2017|      7500.0|       IT|San Francisco|\n",
            "+-----------+-------+----------+------+-----------+------------+---------+-------------+\n",
            "only showing top 5 rows\n",
            "\n"
          ]
        }
      ]
    },
    {
      "cell_type": "code",
      "source": [
        "#Find the total number of employees using count\n",
        "print(\"Total Employees:\", df.count())"
      ],
      "metadata": {
        "colab": {
          "base_uri": "https://localhost:8080/"
        },
        "id": "vo8NXHL9Phjy",
        "outputId": "09762660-5696-4e1b-8bf3-0ad9815f9af8"
      },
      "execution_count": 20,
      "outputs": [
        {
          "output_type": "stream",
          "name": "stdout",
          "text": [
            "Total Employees: 7\n"
          ]
        }
      ]
    },
    {
      "cell_type": "code",
      "source": [
        "#Collect all rows into Python objects using collect\n",
        "all_rows = df.collect()\n",
        "print(all_rows[:3])  #"
      ],
      "metadata": {
        "colab": {
          "base_uri": "https://localhost:8080/"
        },
        "id": "QhSixFJSPi4z",
        "outputId": "b97d3024-8166-445f-8355-e727db41ebd6"
      },
      "execution_count": 21,
      "outputs": [
        {
          "output_type": "stream",
          "name": "stdout",
          "text": [
            "[Row(employee_id=101, name='Alice', department='HR', salary=50000, year_joined=2018, bonus_amount=2500.0), Row(employee_id=102, name='Bob', department='Finance', salary=60000, year_joined=2019, bonus_amount=4200.0), Row(employee_id=103, name='Charlie', department='IT', salary=75000, year_joined=2017, bonus_amount=7500.0)]\n"
          ]
        }
      ]
    },
    {
      "cell_type": "code",
      "source": [
        "# Step 18:\n",
        "first_three = df.take(3)\n",
        "print(first_three)"
      ],
      "metadata": {
        "colab": {
          "base_uri": "https://localhost:8080/"
        },
        "id": "oJ6aVl-sPkPE",
        "outputId": "df944b78-78af-46c8-d721-ad78199eb31d"
      },
      "execution_count": 24,
      "outputs": [
        {
          "output_type": "stream",
          "name": "stdout",
          "text": [
            "[Row(employee_id=101, name='Alice', department='HR', salary=50000, year_joined=2018, bonus_amount=2500.0), Row(employee_id=102, name='Bob', department='Finance', salary=60000, year_joined=2019, bonus_amount=4200.0), Row(employee_id=103, name='Charlie', department='IT', salary=75000, year_joined=2017, bonus_amount=7500.0)]\n"
          ]
        }
      ]
    },
    {
      "cell_type": "code",
      "source": [],
      "metadata": {
        "id": "NK33so_tPlj6"
      },
      "execution_count": null,
      "outputs": []
    }
  ]
}